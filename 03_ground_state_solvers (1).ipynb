{
 "cells": [
  {
   "cell_type": "markdown",
   "metadata": {},
   "source": [
    "# Ground state solvers"
   ]
  },
  {
   "cell_type": "markdown",
   "metadata": {},
   "source": [
    "## Introduction\n",
    "\n",
    "<img src=\"aux_files/H2_gs.png\" width=\"200\">\n",
    "\n",
    "In this tutorial we are going to discuss the ground state calculation interface of Qiskit Nature. The goal is to compute the ground state of a molecular Hamiltonian. This Hamiltonian can for example be electronic or vibrational. To know more about the preparation of the Hamiltonian, check out the [Electronic structure](01_electronic_structure.ipynb) and [Vibrational structure tutorials](02_vibrational_structure.ipynb). \n",
    "\n",
    "> It should be said, that in the electronic case, we are actually computing purely the **electronic** part. When using the Qiskit Nature stack as presented in this tutorial, the _nuclear repulsion energy_ will be added automatically, to obtain the **total** ground state energy.\n",
    "\n",
    "The first step is to define the molecular system. In the following we ask for the electronic part of a hydrogen molecule."
   ]
  },
  {
   "cell_type": "code",
   "execution_count": 14,
   "metadata": {},
   "outputs": [],
   "source": [
    "from qiskit_nature.units import DistanceUnit\n",
    "from qiskit_nature.second_q.drivers import PySCFDriver\n",
    "\n",
    "driver = PySCFDriver(\n",
    "    atom=\"H; O 1 1.08; H 2 1.08 1 104.5\",\n",
    "    basis=\"sto3g\",\n",
    "    charge=0,\n",
    "    spin=0,\n",
    "    unit=DistanceUnit.ANGSTROM,\n",
    ")\n",
    "\n",
    "es_problem = driver.run()"
   ]
  },
  {
   "cell_type": "markdown",
   "metadata": {},
   "source": [
    "We will also be sticking to the Jordan-Wigner mapping. To learn more about the various mappers available in Qiskit Nature, check out the [Qubit Mappers tutorial](06_qubit_mappers.ipynb)."
   ]
  },
  {
   "cell_type": "code",
   "execution_count": 15,
   "metadata": {},
   "outputs": [],
   "source": [
    "from qiskit_nature.second_q.mappers import JordanWignerMapper\n",
    "\n",
    "mapper = JordanWignerMapper()"
   ]
  },
  {
   "cell_type": "markdown",
   "metadata": {},
   "source": [
    "## The Solver\n",
    "\n",
    "After these steps, we need to define a solver. The solver is the algorithm through which the ground state is computed. \n",
    "\n",
    "Let's first start with a purely classical example: the `NumPyMinimumEigensolver`. This algorithm exactly diagonalizes the Hamiltonian. Although it scales badly, it can be used on small systems to check the results of the quantum algorithms. "
   ]
  },
  {
   "cell_type": "code",
   "execution_count": 16,
   "metadata": {},
   "outputs": [],
   "source": [
    "from qiskit_algorithms import NumPyMinimumEigensolver\n",
    "\n",
    "numpy_solver = NumPyMinimumEigensolver()"
   ]
  },
  {
   "cell_type": "markdown",
   "metadata": {},
   "source": [
    "To find the ground state we could also use the Variational Quantum Eigensolver (VQE) algorithm. The VQE algorithm works by exchanging information between a classical and a quantum computer as depicted in the following figure.\n",
    "\n",
    "<img src=\"aux_files/vqe.png\" width=\"600\">\n",
    "\n",
    "Let's initialize a VQE solver."
   ]
  },
  {
   "cell_type": "code",
   "execution_count": 17,
   "metadata": {},
   "outputs": [],
   "source": [
    "from qiskit_algorithms import VQE\n",
    "from qiskit_algorithms.optimizers import SLSQP\n",
    "from qiskit.primitives import Estimator\n",
    "from qiskit_nature.second_q.circuit.library import HartreeFock, UCCSD\n",
    "\n",
    "ansatz = UCCSD(\n",
    "    es_problem.num_spatial_orbitals,\n",
    "    es_problem.num_particles,\n",
    "    mapper,\n",
    "    initial_state=HartreeFock(\n",
    "        es_problem.num_spatial_orbitals,\n",
    "        es_problem.num_particles,\n",
    "        mapper,\n",
    "    ),\n",
    ")\n",
    "\n",
    "vqe_solver = VQE(Estimator(), ansatz, SLSQP())\n",
    "vqe_solver.initial_point = [0.0] * ansatz.num_parameters"
   ]
  },
  {
   "cell_type": "markdown",
   "metadata": {},
   "source": [
    "To define the VQE solver one needs three essential elements:\n",
    "\n",
    "1. An Estimator primitive: these were released as part of Qiskit Terra 0.22. To learn more about primitives, check out [this resource](https://docs.quantum.ibm.com/api/qiskit/primitives).\n",
    "2. A variational form: here we use the Unitary Coupled Cluster (UCC) ansatz (see for instance [Physical Review A 98.2 (2018): 022322]). Since it is a chemistry standard, a factory is already available allowing a fast initialization of a VQE with UCC. The default is to use all single and double excitations. However, the excitation type (S, D, SD) as well as other parameters can be selected. We also prepend the `UCCSD` variational form with a `HartreeFock` initial state, which initializes the occupation of our qubits according to the problem which we are trying solve.\n",
    "3. An optimizer: this is the classical piece of code in charge of optimizing the parameters in our variational form. See [the corresponding documentation](https://qiskit-community.github.io/qiskit-algorithms/apidocs/qiskit_algorithms.optimizers.html) for more information.\n",
    "\n",
    "One could also use any available ansatz / initial state or even define one's own. For instance,"
   ]
  },
  {
   "cell_type": "code",
   "execution_count": 18,
   "metadata": {},
   "outputs": [],
   "source": [
    "from qiskit_algorithms import VQE\n",
    "from qiskit.circuit.library import TwoLocal\n",
    "\n",
    "tl_circuit = TwoLocal(\n",
    "    rotation_blocks=[\"h\", \"rx\"],\n",
    "    entanglement_blocks=\"cz\",\n",
    "    entanglement=\"full\",\n",
    "    reps=2,\n",
    "    parameter_prefix=\"y\",\n",
    ")\n",
    "\n",
    "another_solver = VQE(Estimator(), tl_circuit, SLSQP())"
   ]
  },
  {
   "cell_type": "markdown",
   "metadata": {},
   "source": [
    "## The calculation and results\n",
    "\n",
    "We are now ready to put everything together to compute the ground-state of our problem.\n",
    "Doing so requires us to wrap our `mapper` and quantum algorithm into a single `GroundStateEigensolver` like so:"
   ]
  },
  {
   "cell_type": "code",
   "execution_count": 19,
   "metadata": {},
   "outputs": [],
   "source": [
    "from qiskit_nature.second_q.algorithms import GroundStateEigensolver\n",
    "\n",
    "calc = GroundStateEigensolver(mapper, vqe_solver)"
   ]
  },
  {
   "cell_type": "markdown",
   "metadata": {},
   "source": [
    "This will now take of the entire workflow:\n",
    "1. generating the second-quantized operators stored in our problem (here referred to as `es_problem`)\n",
    "2. mapping (and potentially reducing) the operators in the qubit space\n",
    "3. running the quantum algorithm on the Hamiltonian qubit operator\n",
    "4. once converged, evaluating the additional observables at the determined ground state"
   ]
  },
  {
   "cell_type": "code",
   "execution_count": 20,
   "metadata": {},
   "outputs": [
    {
     "name": "stdout",
     "output_type": "stream",
     "text": [
      "=== GROUND STATE ENERGY ===\n",
      " \n",
      "* Electronic ground state energy (Hartree): -83.165531158643\n",
      "  - computed part:      -83.165531158643\n",
      "~ Nuclear repulsion energy (Hartree): 8.149505156227\n",
      "> Total ground state energy (Hartree): -75.016026002416\n",
      " \n",
      "=== MEASURED OBSERVABLES ===\n",
      " \n",
      "  0:  # Particles: 10.000 S: 0.000 S^2: 0.000 M: 0.000\n",
      " \n",
      "=== DIPOLE MOMENTS ===\n",
      " \n",
      "~ Nuclear dipole moment (a.u.): [18.87913954  0.0  1.9758966]\n",
      " \n",
      "  0: \n",
      "  * Electronic dipole moment (a.u.): [19.214152463247  0.000005900872  1.543208866529]\n",
      "    - computed part:      [19.214152463247  0.000005900872  1.543208866529]\n",
      "  > Dipole moment (a.u.): [-0.335012923247  -0.000005900872  0.432687733471]  Total: 0.547222380274\n",
      "                 (debye): [-0.851517835017  -0.000014998519  1.099782415772]  Total: 1.390900422611\n",
      " \n"
     ]
    }
   ],
   "source": [
    "res = calc.solve(es_problem)\n",
    "print(res)"
   ]
  },
  {
   "cell_type": "markdown",
   "metadata": {},
   "source": [
    "We can compare the VQE results to the NumPy exact solver and see that they match. "
   ]
  },
  {
   "cell_type": "code",
   "execution_count": 21,
   "metadata": {},
   "outputs": [
    {
     "name": "stdout",
     "output_type": "stream",
     "text": [
      "=== GROUND STATE ENERGY ===\n",
      " \n",
      "* Electronic ground state energy (Hartree): -83.165673074386\n",
      "  - computed part:      -83.165673074386\n",
      "~ Nuclear repulsion energy (Hartree): 8.149505156227\n",
      "> Total ground state energy (Hartree): -75.016167918159\n",
      " \n",
      "=== MEASURED OBSERVABLES ===\n",
      " \n",
      "  0:  # Particles: 10.000 S: 0.000 S^2: 0.000 M: 0.000\n",
      " \n",
      "=== DIPOLE MOMENTS ===\n",
      " \n",
      "~ Nuclear dipole moment (a.u.): [18.87913954  0.0  1.9758966]\n",
      " \n",
      "  0: \n",
      "  * Electronic dipole moment (a.u.): [19.213986939316  0.0  1.543435185902]\n",
      "    - computed part:      [19.213986939316  0.0  1.543435185902]\n",
      "  > Dipole moment (a.u.): [-0.334847399316  0.0  0.432461414098]  Total: 0.54694209521\n",
      "                 (debye): [-0.851097115189  0.0  1.099207169361]  Total: 1.390188009104\n",
      " \n"
     ]
    }
   ],
   "source": [
    "calc = GroundStateEigensolver(mapper, numpy_solver)\n",
    "res = calc.solve(es_problem)\n",
    "print(res)"
   ]
  }
 ],
 "metadata": {
  "kernelspec": {
   "display_name": "Python [conda env:qiskit-nature]",
   "language": "python",
   "name": "conda-env-qiskit-nature-py"
  },
  "language_info": {
   "codemirror_mode": {
    "name": "ipython",
    "version": 3
   },
   "file_extension": ".py",
   "mimetype": "text/x-python",
   "name": "python",
   "nbconvert_exporter": "python",
   "pygments_lexer": "ipython3",
   "version": "3.9.0"
  }
 },
 "nbformat": 4,
 "nbformat_minor": 4
}
